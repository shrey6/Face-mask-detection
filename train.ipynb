
learning_rate=0.0001
epochs=20
batch_size=32
Directory = '/Dataset'
Categories = ['with_mask','without_mask']
print("[INFO] loading images...")
data=[]
labels = []
for category in Categories:
  path = os.path.join(Directory,category)
  print(path)
  c=0
  for img in os.listdir(path):
    img_path = os.path.join(path,img)
    image = load_img(img_path,target_size=(224,224))
    image = img_to_array(image)
    image = preprocess_input(image)
    data.append(image)
    labels.append(category)
    print(c)
    c=c+1
lb = LabelBinarizer()
labels = lb.fit_transform(labels)
labels = to_categorical(labels)
data = np.array(data,dtype='float32')
labels = np.array(labels)
(trainX,testX,trainY,testY)=train_test_split(data,labels,test_size=0.20,stratify=labels,random_state=42)
aug = ImageDataGenerator(rotation_range=20,zoom_range=0.15,width_shift_range=0.2,height_shift_range=0.2,shear_range=0.15,horizontal_flip=True,fill_mode="nearest")
baseModel = MobileNetV2(weights="imagenet",include_top=False,input_tensor=Input(shape=(224,224,3)))
headModel = baseModel.output
headModel = AveragePooling2D(pool_size=(7,7))(headModel)
headModel = Flatten(name='flatten')(headModel)
headModel = Dense(128,activation='relu')(headModel)
headModel = Dropout(0.5)(headModel)
headModel = Dense(2,activation='softmax')(headModel)
model = Model(inputs=baseModel.input,outputs=headModel)
for layer in baseModel.layers:
  layer.trainable=False
print("[INFO] compiling model...")
opt = Adam(learning_rate=learning_rate,decay=learning_rate/epochs)
model.compile(loss="binary_crossentropy",optimizer=opt,metrics=['accuracy'])
print("[INFO] training head...")
H = model.fit(aug.flow(trainX,trainY,batch_size=batch_size),steps_per_epoch=len(trainX)//batch_size,validation_data=(testX,testY),validation_steps=len(testX)//batch_size,epochs=epochs)
print("[INFO] evaluation network...")
predIdxs = model.predict(testX,batch_size=batch_size)
predIdxs=np.argmax(predIdxs,axis=1)
print(classification_report(testY.argmax(axis=1),predIdxs,target_names=lb.classes_))
print("[INFO] saving mask detector model...")
model.save("mask_detector.model.h5")
N=epochs
plt.style.use('ggplot')
plt.figure()
plt.plot(np.arange(0,N),H.history["loss"],Label='train_loss')
plt.plot(np.arange(0,N),H.history["val_loss"],Label='val_loss')
plt.plot(np.arange(0,N),H.history["accuracy"],Label='train_acc')
plt.plot(np.arange(0,N),H.history["val_accuracy"],Label='val_acc')
plt.title("Training Loss and Accuracy")
plt.xlabel('Epochs #')
plt.ylabel("Loss/Accuracy")
plt.legend(loc="lower left")
plt.savefig("plot.png")
